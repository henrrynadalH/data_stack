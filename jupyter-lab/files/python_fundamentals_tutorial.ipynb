{
 "cells": [
  {
   "cell_type": "markdown",
   "id": "331f0c24-4cc0-48c1-9545-4a75978b7025",
   "metadata": {},
   "source": [
    "\n",
    "# GUÍA PRÁCTICA - PYTHON FUNDAMENTALS"
   ]
  },
  {
   "cell_type": "markdown",
   "id": "3d88dfd4-5a84-4d51-9bd8-f8d3e27b1b8a",
   "metadata": {},
   "source": [
    "#  Hello World"
   ]
  },
  {
   "cell_type": "markdown",
   "id": "486494a1-4994-47ff-b4bd-2575b36589ed",
   "metadata": {},
   "source": [
    "Este es una primera guía para entender los fundamentos de python. Ejecuta la siguiente celda para ver el resultado. El propósito de esta actividad es lograr que el código imprima en la ventana de salida el siguiente texto:\n",
    "\n",
    "```python\n",
    "\"Hello, World!\"\n",
    "```\n",
    "\n"
   ]
  },
  {
   "cell_type": "code",
   "execution_count": null,
   "id": "c8957277-8157-44cd-b20c-7d39d0123fdf",
   "metadata": {},
   "outputs": [],
   "source": [
    "print(\"Hello, World!\")"
   ]
  },
  {
   "cell_type": "markdown",
   "id": "e8d32f4d-fc53-4f12-a96c-3e6547cef542",
   "metadata": {},
   "source": [
    "# Variables and Types\n"
   ]
  },
  {
   "cell_type": "markdown",
   "id": "0dc2ddae-dec0-4842-a326-f32de3acffb7",
   "metadata": {},
   "source": [
    "\n",
    "Python adopta un enfoque completamente orientado a objetos y se caracteriza por no ser \"escrito estáticamente\". En este lenguaje, no es necesario realizar declaraciones previas sobre variables o sus tipos antes de su uso. Cada variable se trata como un objeto, lo que permite la utilización de las siguientes instrucciones:\n",
    "\n",
    "help(object): Proporciona detalles sobre el manejo de objetos.\n",
    "dir(object): Revela la estructura interna del objeto, incluyendo sus métodos y miembros.\n",
    "    \n",
    "A continuación se explorarán algunos conceptos relacionados con variables básicas en Python."
   ]
  },
  {
   "cell_type": "markdown",
   "id": "5127425d-401b-4648-ac8b-1450425d7e92",
   "metadata": {},
   "source": [
    "## Números"
   ]
  },
  {
   "cell_type": "markdown",
   "id": "912861c6-62c8-49d4-a6b8-2d100de4600d",
   "metadata": {},
   "source": [
    "En Python, se pueden encontrar dos categorías de números: los enteros o integrales (integer) y los números de punto flotante (float). No se abordarán en esta guía los números complejos, que también son admitidos por Python.\n",
    "\n",
    "\n",
    "\n",
    "\n"
   ]
  },
  {
   "cell_type": "markdown",
   "id": "b3d09f5b-b846-4697-a629-d0ce85bd11f3",
   "metadata": {},
   "source": [
    "Para definir un integer, usa la siguiente sintaxis:\n",
    "\n"
   ]
  },
  {
   "cell_type": "code",
   "execution_count": null,
   "id": "4b9bdcfc-9a88-4897-bea4-90a181fff240",
   "metadata": {},
   "outputs": [],
   "source": [
    "my_int = 5"
   ]
  },
  {
   "cell_type": "markdown",
   "id": "fb1f9ee9-c3d2-4a20-afad-7a1c2d1b3935",
   "metadata": {},
   "source": [
    "Para especificar un número de tipo float, es necesario emplear una de las siguientes formas de notación:\n",
    "\n",
    "\n",
    "\n",
    "\n"
   ]
  },
  {
   "cell_type": "code",
   "execution_count": null,
   "id": "be1447e5-4914-405b-990d-bd36876259eb",
   "metadata": {},
   "outputs": [],
   "source": [
    "my_decimal = 3.0\n",
    "my_decimal = float(3)"
   ]
  },
  {
   "cell_type": "markdown",
   "id": "2489169c-8fd8-413c-b61b-54aa4518e64e",
   "metadata": {},
   "source": [
    "## Cadenas de Texto -  Strings"
   ]
  },
  {
   "cell_type": "markdown",
   "id": "8f154c37-ba5e-4cbc-96e2-d28c5786e477",
   "metadata": {},
   "source": [
    "Las cadenas son definidas con comillas sencillas o dobles, tal como se ve a continuación"
   ]
  },
  {
   "cell_type": "code",
   "execution_count": null,
   "id": "5e3d6399-e1ff-421a-b97d-b9821fd823f3",
   "metadata": {},
   "outputs": [],
   "source": [
    "my_string = 'Hello'\n",
    "my_string = \"Hello\""
   ]
  },
  {
   "cell_type": "markdown",
   "id": "0c5d429b-4846-4d6b-afe1-979fe5aa5b7f",
   "metadata": {},
   "source": [
    "La única diferencia entre las dos formas de definir un string se encuentra en que usando comillas dobles, se facilita el incluir las apostofres (en cambio, al usar comilla doble, se concluirá el string si se usa doble comillas)\n",
    "\n"
   ]
  },
  {
   "cell_type": "code",
   "execution_count": null,
   "id": "4d22286b-da99-43ea-9b1a-e700a6a71bcf",
   "metadata": {},
   "outputs": [],
   "source": [
    "my_string = \"Be worried about \"Double quotes\" when using double quotes\"\n",
    "print(my_string)"
   ]
  },
  {
   "cell_type": "code",
   "execution_count": null,
   "id": "1d8b33a3-c97e-41f4-b7ab-a6673c179334",
   "metadata": {},
   "outputs": [],
   "source": [
    "my_string = 'Be worried about 'apostrophes' when using single quotes'\n",
    "print(my_string)"
   ]
  },
  {
   "cell_type": "code",
   "execution_count": null,
   "id": "f49bb2d5-33d5-4676-a72b-f4f365fcbd10",
   "metadata": {},
   "outputs": [],
   "source": [
    "my_string = \"Don't worry about 'apostrophes' using double quotes\"\n",
    "print(my_string)"
   ]
  },
  {
   "cell_type": "code",
   "execution_count": null,
   "id": "de75fa3b-cfc3-485a-a8d7-532d2301700d",
   "metadata": {},
   "outputs": [],
   "source": [
    "my_string = 'Do not worry about \"double quotes\" when using single quotes'\n",
    "print(my_string)"
   ]
  },
  {
   "cell_type": "markdown",
   "id": "a09386d7-7c84-4c2b-92ae-70e6e2660f9e",
   "metadata": {},
   "source": [
    "Existen variaciones para definir cadenas de texto que hacen más sencillo incluir otros símbolos como un salto de línea, una contrabarra o caracteres Unicode. Este tema no se cubre en esta guía, pero puedes conseguir más información en [Python Documentation](https://docs.python.org/3/tutorial/introduction.html#strings/).\n"
   ]
  },
  {
   "cell_type": "markdown",
   "id": "aeca0993-067a-4199-a2b7-1b5331911806",
   "metadata": {},
   "source": [
    "Los operadores simples pueden ser ejecutados en números o cadenas:\n"
   ]
  },
  {
   "cell_type": "code",
   "execution_count": null,
   "id": "a3b22da4-9db2-4e36-a68d-66d4cc005f88",
   "metadata": {},
   "outputs": [],
   "source": [
    "one = 1\n",
    "two = 2\n",
    "three = one + two\n",
    "print(three)\n"
   ]
  },
  {
   "cell_type": "code",
   "execution_count": null,
   "id": "ca7c0619-6305-471a-bc17-7fd3740c42b1",
   "metadata": {},
   "outputs": [],
   "source": [
    "hello = \"hello\"\n",
    "world = \"world\"\n",
    "hello_world = hello + \" \" + world\n",
    "print(hello_world)"
   ]
  },
  {
   "cell_type": "markdown",
   "id": "a12a2d67-6cd3-46d5-911d-1378bf17f5c9",
   "metadata": {},
   "source": [
    "Es posible asignar a más de una variable de manera simultanea en la misma línea, tal como se muestra aquí\n",
    "\n"
   ]
  },
  {
   "cell_type": "code",
   "execution_count": null,
   "id": "24329bfc-22ec-41df-8af3-2fa8647f68f4",
   "metadata": {},
   "outputs": [],
   "source": [
    "a, b = 3, 4\n"
   ]
  },
  {
   "cell_type": "markdown",
   "id": "cad899d4-b52c-4fbf-8f23-f92fbcd1262a",
   "metadata": {},
   "source": [
    "print(a)"
   ]
  },
  {
   "cell_type": "code",
   "execution_count": null,
   "id": "7c1fe796-662e-4eee-bdac-a9a4b3fd05c9",
   "metadata": {},
   "outputs": [],
   "source": [
    "print(b)"
   ]
  },
  {
   "cell_type": "markdown",
   "id": "e19035f2-77af-457a-b66e-b9b17b77b815",
   "metadata": {},
   "source": [
    "Mezclando operadores entre los numeros y cadenas que no son soportadas:"
   ]
  },
  {
   "cell_type": "code",
   "execution_count": null,
   "id": "80f2472b-867b-4f8b-93df-c389ebb2444b",
   "metadata": {},
   "outputs": [],
   "source": [
    "# This piece of code won't work\n",
    "print (one + two+ hello)\n"
   ]
  },
  {
   "cell_type": "markdown",
   "id": "99d32124-fdbc-4c18-aa48-7f287386e23e",
   "metadata": {},
   "source": [
    "## Reforzando el conocimiento"
   ]
  },
  {
   "cell_type": "markdown",
   "id": "b2301b5f-2280-48a0-b05a-4c9b2d7edc1a",
   "metadata": {},
   "source": [
    "\n",
    "El propósito de esta actividad es generar una string, un integer y un float. \n",
    "\n",
    "Completa la siguiente celda para cumplir con los siguientes requerimientos:\n",
    "\n",
    "* El string debe ser denominada como `mystring` e incluir el valor \"hello\".\n",
    "* El float se designará como `myfloat` y deberá incorporar el valor 10\n",
    "* respecto al integer, será identificado como `myint` y deberá contener el valor 20.\n",
    "\n",
    "\n",
    "\n",
    "\n"
   ]
  },
  {
   "cell_type": "code",
   "execution_count": null,
   "id": "967f5708-207c-434d-a254-28b0fd13e2d2",
   "metadata": {},
   "outputs": [],
   "source": [
    "mystring = \n",
    "myfloat =\n",
    "my ="
   ]
  },
  {
   "cell_type": "markdown",
   "id": "66d18c6c-bae6-4e39-b997-44b2dcafcf51",
   "metadata": {},
   "source": [
    "Para evaluar el codigo, por favor ejecuta la siguiente celda"
   ]
  },
  {
   "cell_type": "code",
   "execution_count": null,
   "id": "1aa919f0-ac2b-4153-b79b-3c71254c3244",
   "metadata": {
    "jupyter": {
     "source_hidden": true
    }
   },
   "outputs": [],
   "source": [
    "\n",
    "def exercise_one_validation(variable, expected_value, expected_type):\n",
    "    try:\n",
    "        assert variable in globals()\n",
    "        assert globals()[variable] == expected_value\n",
    "        assert isinstance(globals()[variable], expected_type)\n",
    "        print(f\"La variable {variable} está definida correctamente.\")\n",
    "    except AssertionError:\n",
    "        if variable not in globals():\n",
    "            print(f\"Error: La variable {variable} no está definida.\")\n",
    "        elif not isinstance(globals()[variable], expected_type):\n",
    "            print(f\"Error: La variable {variable} no tiene el tipo correcto.\")\n",
    "        elif globals()[variable] != expected_value:\n",
    "            print(f\"Error: La variable {variable} no tiene el valor correcto.\")\n",
    "\n",
    "exercise_one_validation('mystring', 'hola', str)\n",
    "exercise_one_validation('myfloat', 10.0, float)\n",
    "exercise_one_validation('myint', 20, int)"
   ]
  },
  {
   "cell_type": "markdown",
   "id": "5d247176-36d8-42bf-a4e1-746d93c5da36",
   "metadata": {},
   "source": [
    "# Listas"
   ]
  },
  {
   "cell_type": "markdown",
   "id": "b8bd71cc-cc77-40d3-b35d-8cc44194bb62",
   "metadata": {},
   "source": [
    "En Python, una lista es un tipo de datos versátil y mutable (que puede ser modificado) que te permite almacenar una colección de elementos. Las listas pueden contener elementos de diferentes tipos de datos y se definen mediante corchetes [ ].\n",
    "\n",
    "Las listas pueden admitir tantos elementos como sea necesario y es posible iterar fácilmente a través de los elementos de la lista (esto se explicará más adelante) o acceder a ellos mediante un índice basado en cero"
   ]
  },
  {
   "cell_type": "markdown",
   "id": "edeb79bb-1d71-4ce6-864f-56bd9cd0eb60",
   "metadata": {},
   "source": [
    "Creando una lista"
   ]
  },
  {
   "cell_type": "code",
   "execution_count": null,
   "id": "8589c562-af41-4497-8e80-1e20099ffeac",
   "metadata": {},
   "outputs": [],
   "source": [
    "my_list = [1, 2, 3, 'apple', 'banana', True]"
   ]
  },
  {
   "cell_type": "markdown",
   "id": "3075978a-c1f6-49d8-8899-51cf9bfaa57b",
   "metadata": {},
   "source": [
    "Accediendo a los elementos\n",
    "\n",
    "Los elementos en una lista se acceden mediante índices. Python utiliza un sistema de índices basado en cero, lo que significa que el primer elemento está en el índice 0, el segundo en el índice 1, y así sucesivamente."
   ]
  },
  {
   "cell_type": "code",
   "execution_count": null,
   "id": "413766b7-99d6-4b0c-b8be-38484b688019",
   "metadata": {},
   "outputs": [],
   "source": [
    "# Acceder a elementos\n",
    "print(my_list[0])    # Salida: 1\n",
    "print(my_list[3])    # Salida: 'apple'"
   ]
  },
  {
   "cell_type": "markdown",
   "id": "db8c5e55-9a3c-4579-b986-b0c8c435e22c",
   "metadata": {},
   "source": [
    "# Operaciones con listas"
   ]
  },
  {
   "cell_type": "markdown",
   "id": "10dd105f-b0ee-4a66-af64-e2c9bbf6c1b7",
   "metadata": {},
   "source": [
    "Append (Agregar al final): Añadir un elemento al final de la lista.\n"
   ]
  },
  {
   "cell_type": "code",
   "execution_count": null,
   "id": "7da3c54b-353f-4ed6-a33e-80be8a7ed1d8",
   "metadata": {},
   "outputs": [],
   "source": [
    "my_list.append('orange')\n",
    "\n",
    "print(my_list)\n"
   ]
  },
  {
   "cell_type": "markdown",
   "id": "1cff6e91-a7f8-4e63-a1da-43a5bca34dfd",
   "metadata": {},
   "source": [
    "Insert (Insertar en posición específica): Insertar un elemento en un índice específico.\n"
   ]
  },
  {
   "cell_type": "code",
   "execution_count": null,
   "id": "7293dfa2-912d-4dc2-966b-69077ff34e75",
   "metadata": {},
   "outputs": [],
   "source": [
    "my_list.insert(2, 'grape')\n",
    "\n",
    "print(my_list)\n"
   ]
  },
  {
   "cell_type": "code",
   "execution_count": null,
   "id": "4431baa9-f490-48fe-8e28-43d599218e40",
   "metadata": {},
   "outputs": [],
   "source": [
    "my_list.insert(2, 'grape')\n",
    "\n",
    "print(my_list)\n"
   ]
  },
  {
   "cell_type": "markdown",
   "id": "4481e786-1916-4851-88a3-abea0e37c9c4",
   "metadata": {},
   "source": [
    "Remove (Eliminar por valor): Eliminar un elemento por su valor.\n",
    "\n"
   ]
  },
  {
   "cell_type": "code",
   "execution_count": null,
   "id": "766328c3-eb40-4182-a2c5-d60e99c3c750",
   "metadata": {},
   "outputs": [],
   "source": [
    "my_list.remove('grape')\n",
    "\n",
    "print(my_list)\n"
   ]
  },
  {
   "cell_type": "code",
   "execution_count": null,
   "id": "57b55a0f-5e36-4771-a7f4-ac64909989ed",
   "metadata": {},
   "outputs": [],
   "source": [
    "my_list.remove('grape')\n",
    "print(my_list)\n"
   ]
  },
  {
   "cell_type": "code",
   "execution_count": null,
   "id": "aa56a9cb-870d-43cf-8f76-18ab15d080a4",
   "metadata": {},
   "outputs": [],
   "source": [
    "my_list.remove('grape')\n",
    "\n",
    "\n",
    "#Esta sentencia fallará por que ya no se tiene 'grape' en la lista"
   ]
  },
  {
   "cell_type": "markdown",
   "id": "dbe3ebbe-094a-4f05-a2a3-e69ed2fc61c7",
   "metadata": {},
   "source": [
    "Segmentación de Listas:\n",
    "\n",
    "Puedes crear una sublista segmentando una lista usando el operador :."
   ]
  },
  {
   "cell_type": "code",
   "execution_count": null,
   "id": "6b696437-feb6-4562-8db0-ed1c8fe307a0",
   "metadata": {},
   "outputs": [],
   "source": [
    "# Segmentar una lista\n",
    "print(my_list)\n",
    "sublist = my_list[2:5]\n",
    "print(sublist)    # Salida: ['2', 'apple', 'banana']\n"
   ]
  },
  {
   "cell_type": "markdown",
   "id": "604b5e08-2786-486a-a508-e6fbbdf8c1ac",
   "metadata": {},
   "source": [
    "En la salida anterior es el resultado de una segmentación (slicing) de una lista. A continuación se tiene una explicación detallada:\n",
    "\n",
    "\n",
    "* my_list: Es el nombre de la lista en la que deseamos realizar la operación de segmentación.\n",
    "* [2:5]: Indica que queremos seleccionar un subconjunto de elementos de la lista comenzando desde el índice 2 (inclusive) hasta el índice 5 (no inclusivo).\n",
    "\n",
    "En términos más simples:\n",
    "\n",
    "El índice 2 corresponde al tercer elemento de la lista.\n",
    "El índice 5 corresponde al sexto elemento de la lista.\n",
    "\n",
    "Por lo tanto, my_list[2:5] selecciona los elementos desde el tercer elemento hasta el sexto elemento (no inclusivo) de la lista my_list.\n",
    "\n",
    "Esencialmente, esta operación de segmentación crea una nueva lista que es una \"rebanada\" de la lista original, incluyendo los elementos desde el índice 2 hasta el índice 4 de la lista original. La nueva lista conserva el orden de los elementos y se denomina sublista.\n",
    "\n",
    "\n",
    "\n",
    "\n"
   ]
  },
  {
   "cell_type": "markdown",
   "id": "792e35e4-25c8-46f2-ac09-8b310e3823f9",
   "metadata": {},
   "source": [
    "# Reforzando el conocimiento"
   ]
  },
  {
   "cell_type": "markdown",
   "id": "b5edce79-7cd4-4c10-863c-f86d3a247a6b",
   "metadata": {},
   "source": [
    "1. Crea una lista llamada frutas que contenga las frutas:\n",
    "   * manzana\n",
    "   * naranja\n",
    "   * uva\n",
    "   * fresa\n",
    "   * kiwi\n",
    "\n",
    "3. Agrega dos siguientes frutas de manera adicional a la lista utilizando el método adecuado.\n",
    "    * platano\n",
    "    * mango\n",
    "\n",
    "4. Almancena el segundo y el quinto elementode la lista , de manera respectiva, en las variables:\n",
    "    * `segundo_elemento`\n",
    "    * `quinto_elemento`\n",
    "\n",
    "5. Imprime la longitud actual de la lista.\n",
    "   Hint. Usa la funcion `len(lista)`. `len` es el short para lenght\n"
   ]
  },
  {
   "cell_type": "code",
   "execution_count": null,
   "id": "9aacacf0-50e8-4643-8adc-166cb234f73b",
   "metadata": {},
   "outputs": [],
   "source": [
    "# Respuestas correctas\n",
    "\n",
    "# Ejercicio\n",
    "frutas = []\n",
    "frutas.append('')\n",
    "frutas.('mango')\n",
    "segundo_elemento = frutas[]\n",
    "quinto_elemento = frutas[]\n",
    "\n",
    "print(segundo_elemento)\n",
    "print(quinto_elemento)\n",
    "print(len(frutas))\n",
    "\n"
   ]
  },
  {
   "cell_type": "code",
   "execution_count": null,
   "id": "60153eeb-05d8-428d-8311-fa8e6eed6a81",
   "metadata": {
    "jupyter": {
     "source_hidden": true
    }
   },
   "outputs": [],
   "source": [
    "# Verificar respuestas\n",
    "calificacion = 0\n",
    "\n",
    "frutas_correctas = ['manzana', 'naranja', 'uva', 'fresa', 'kiwi', 'platano', 'mango']\n",
    "if frutas == frutas_correctas:\n",
    "    calificacion += 1\n",
    "    print('Lista correcta')\n",
    "\n",
    "if segundo_elemento == 'naranja' and quinto_elemento == 'kiwi':\n",
    "    calificacion += 1\n",
    "    print('Segundo y quinto elementos correctos')\n",
    "\n",
    "if longitud_lista == 7:\n",
    "    calificacion += 1\n",
    "    print('longitud correcta')\n",
    "\n",
    "# Mostrar resultado\n",
    "print(f\"Calificación: {calificacion}/3\")\n"
   ]
  },
  {
   "cell_type": "code",
   "execution_count": null,
   "id": "ae8dcb06-6070-4064-88d8-ebf83f480a7c",
   "metadata": {},
   "outputs": [],
   "source": []
  }
 ],
 "metadata": {
  "kernelspec": {
   "display_name": "Python 3 (ipykernel)",
   "language": "python",
   "name": "python3"
  },
  "language_info": {
   "codemirror_mode": {
    "name": "ipython",
    "version": 3
   },
   "file_extension": ".py",
   "mimetype": "text/x-python",
   "name": "python",
   "nbconvert_exporter": "python",
   "pygments_lexer": "ipython3",
   "version": "3.8.18"
  }
 },
 "nbformat": 4,
 "nbformat_minor": 5
}
