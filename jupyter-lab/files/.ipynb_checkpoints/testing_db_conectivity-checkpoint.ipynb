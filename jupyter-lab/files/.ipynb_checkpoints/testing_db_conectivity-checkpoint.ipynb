{
 "cells": [
  {
   "cell_type": "code",
   "execution_count": null,
   "id": "fbabe57b-17e4-4ead-bf9e-bd35849a818b",
   "metadata": {},
   "outputs": [],
   "source": [
    "import psycopg2\n",
    "\n",
    "# PostgreSQL connection parameters\n",
    "db_params = {\n",
    "    'host': 'localhost',\n",
    "    'port': '5432',\n",
    "    'database': 'dvdrental',\n",
    "    'user': 'postgres',\n",
    "    'password': 'mypassword'\n",
    "}\n",
    "\n",
    "# Example query\n",
    "query = \"SELECT * FROM actor\"\n",
    "\n",
    "# Connect to the PostgreSQL database\n",
    "try:\n",
    "    connection = psycopg2.connect(host='postgres',\n",
    "                                  port= '5432',\n",
    "                                  database='dvdrental',\n",
    "                                  user='postgres',\n",
    "                                  password='mypassword')\n",
    "    print(\"Connected to the database!\")\n",
    "\n",
    "    # Create a cursor object to execute queries\n",
    "    with connection.cursor() as cursor:\n",
    "        # Execute the query\n",
    "        cursor.execute(query)\n",
    "\n",
    "        # Fetch all rows\n",
    "        rows = cursor.fetchall()\n",
    "\n",
    "        # Process the result\n",
    "        for row in rows:\n",
    "            print(row)\n",
    "\n",
    "except Exception as e:\n",
    "    print(f\"Error: {e}\")\n",
    "\n",
    "finally:\n",
    "    # Close the database connection\n",
    "    if connection:\n",
    "        connection.close()\n",
    "        print(\"Connection closed.\")\n"
   ]
  }
 ],
 "metadata": {
  "kernelspec": {
   "display_name": "Python 3 (ipykernel)",
   "language": "python",
   "name": "python3"
  },
  "language_info": {
   "codemirror_mode": {
    "name": "ipython",
    "version": 3
   },
   "file_extension": ".py",
   "mimetype": "text/x-python",
   "name": "python",
   "nbconvert_exporter": "python",
   "pygments_lexer": "ipython3",
   "version": "3.8.18"
  }
 },
 "nbformat": 4,
 "nbformat_minor": 5
}
