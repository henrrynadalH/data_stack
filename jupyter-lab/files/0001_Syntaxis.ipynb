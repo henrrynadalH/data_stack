{
 "cells": [
  {
   "cell_type": "markdown",
   "id": "98c511d9",
   "metadata": {},
   "source": [
    "# Python Syntax"
   ]
  },
  {
   "cell_type": "markdown",
   "id": "6b2d3114",
   "metadata": {},
   "source": [
    "## Indentación en Python\n",
    "\n",
    "- Python usa identación para indicar un bloque de código"
   ]
  },
  {
   "cell_type": "code",
   "execution_count": 1,
   "id": "f4fbcda9",
   "metadata": {},
   "outputs": [
    {
     "name": "stdout",
     "output_type": "stream",
     "text": [
      "Five is greater than two!\n"
     ]
    }
   ],
   "source": [
    "if 5 > 2:\n",
    "    print(\"Five is greater than two!\")"
   ]
  },
  {
   "cell_type": "markdown",
   "id": "96819142",
   "metadata": {},
   "source": [
    "- Python arrojará un error si te \"brincaw\" la indentación:"
   ]
  },
  {
   "cell_type": "code",
   "execution_count": 2,
   "id": "660c83de",
   "metadata": {},
   "outputs": [
    {
     "ename": "IndentationError",
     "evalue": "expected an indented block (3793329317.py, line 2)",
     "output_type": "error",
     "traceback": [
      "\u001b[0;36m  Cell \u001b[0;32mIn[2], line 2\u001b[0;36m\u001b[0m\n\u001b[0;31m    print(\"Five is greater than two!\")\u001b[0m\n\u001b[0m    ^\u001b[0m\n\u001b[0;31mIndentationError\u001b[0m\u001b[0;31m:\u001b[0m expected an indented block\n"
     ]
    }
   ],
   "source": [
    "if 5 > 2:\n",
    "print(\"Five is greater than two!\")"
   ]
  },
  {
   "cell_type": "code",
   "execution_count": 3,
   "id": "71d7cb30",
   "metadata": {},
   "outputs": [
    {
     "name": "stdout",
     "output_type": "stream",
     "text": [
      "Five is greater than two!\n",
      "Five is greater than two!\n"
     ]
    }
   ],
   "source": [
    "if 5 > 2:\n",
    "    print(\"Five is greater than two!\") \n",
    "if 5 > 2:\n",
    "        print(\"Five is greater than two!\") "
   ]
  },
  {
   "cell_type": "markdown",
   "id": "66d41775",
   "metadata": {},
   "source": [
    "- Es necesario usar el mismo número de espacios en el mismo bloque de código, en otro caso, Python mandará un error:"
   ]
  },
  {
   "cell_type": "code",
   "execution_count": 4,
   "id": "b3798c6c",
   "metadata": {},
   "outputs": [
    {
     "ename": "IndentationError",
     "evalue": "unexpected indent (2709113769.py, line 3)",
     "output_type": "error",
     "traceback": [
      "\u001b[0;36m  Cell \u001b[0;32mIn[4], line 3\u001b[0;36m\u001b[0m\n\u001b[0;31m    print(\"Five is greater than two!\")\u001b[0m\n\u001b[0m    ^\u001b[0m\n\u001b[0;31mIndentationError\u001b[0m\u001b[0;31m:\u001b[0m unexpected indent\n"
     ]
    }
   ],
   "source": [
    "if 5 > 2:\n",
    "    print(\"Five is greater than two!\")\n",
    "        print(\"Five is greater than two!\")"
   ]
  },
  {
   "cell_type": "markdown",
   "id": "f755ee50",
   "metadata": {},
   "source": [
    "## Variables en Python"
   ]
  },
  {
   "cell_type": "markdown",
   "id": "5e30739f",
   "metadata": {},
   "source": [
    "- En Python, las variables son creadas en el momento en el que le asignas un valor:"
   ]
  },
  {
   "cell_type": "code",
   "execution_count": 5,
   "id": "77efe0a9",
   "metadata": {},
   "outputs": [],
   "source": [
    "x = 5\n",
    "y = \"Hello, World!\""
   ]
  },
  {
   "cell_type": "markdown",
   "id": "4a0bf7df",
   "metadata": {},
   "source": [
    "- Python no tiene un comando para la declaración de variables."
   ]
  },
  {
   "cell_type": "markdown",
   "id": "ea36c113",
   "metadata": {},
   "source": [
    "## Commentarios\n",
    "\n",
    "- Python tiene capacidad para usar comentarios con el objetivo de agregar documentación durante el código\n",
    "\n",
    "- Los comentarios empiezan con un `#`, y Python *interpretará* el resto de la línea como un comentario:"
   ]
  },
  {
   "cell_type": "code",
   "execution_count": 6,
   "id": "45b85c1d",
   "metadata": {},
   "outputs": [
    {
     "name": "stdout",
     "output_type": "stream",
     "text": [
      "Hello, World!\n"
     ]
    }
   ],
   "source": [
    "#This is a comment.\n",
    "print(\"Hello, World!\")"
   ]
  },
  {
   "cell_type": "code",
   "execution_count": null,
   "id": "36359f93",
   "metadata": {},
   "outputs": [],
   "source": []
  }
 ],
 "metadata": {
  "kernelspec": {
   "display_name": "Python 3 (ipykernel)",
   "language": "python",
   "name": "python3"
  },
  "language_info": {
   "codemirror_mode": {
    "name": "ipython",
    "version": 3
   },
   "file_extension": ".py",
   "mimetype": "text/x-python",
   "name": "python",
   "nbconvert_exporter": "python",
   "pygments_lexer": "ipython3",
   "version": "3.8.19"
  }
 },
 "nbformat": 4,
 "nbformat_minor": 5
}
