{
 "cells": [
  {
   "cell_type": "markdown",
   "id": "568bef77",
   "metadata": {},
   "source": [
    "- Las variables son contenedores para guardar valores de datos."
   ]
  },
  {
   "cell_type": "markdown",
   "id": "e6eb46f1",
   "metadata": {},
   "source": [
    "## Creación de Variables\n",
    "- Python no tiene un comando para la declaración de variables.\n",
    "\n",
    "- En Python, las variables son creadas en el momento en el que le asignas un valor"
   ]
  },
  {
   "cell_type": "code",
   "execution_count": 1,
   "id": "e3e28d5b",
   "metadata": {},
   "outputs": [
    {
     "name": "stdout",
     "output_type": "stream",
     "text": [
      "5\n",
      "John\n"
     ]
    }
   ],
   "source": [
    "x = 5\n",
    "y = \"John\"\n",
    "print(x)\n",
    "print(y)"
   ]
  },
  {
   "cell_type": "markdown",
   "id": "0e0ee206",
   "metadata": {},
   "source": [
    "- Las variables no necesitan ser declaradas con algún tipo en particular, y pueden cambiar de tipo después de que han sido creadas."
   ]
  },
  {
   "cell_type": "code",
   "execution_count": 2,
   "id": "66e269d2",
   "metadata": {},
   "outputs": [
    {
     "name": "stdout",
     "output_type": "stream",
     "text": [
      "Sally\n"
     ]
    }
   ],
   "source": [
    "x = 4       # x is of type int\n",
    "x = \"Sally\" # x is now of type str\n",
    "print(x)"
   ]
  },
  {
   "cell_type": "markdown",
   "id": "f693adec",
   "metadata": {},
   "source": [
    "## Casting"
   ]
  },
  {
   "cell_type": "markdown",
   "id": "97c5bb24",
   "metadata": {},
   "source": [
    "- Si se prefiere o necesita especificar el tipo de dato de una variable, esto puede ser realizado con un *casteo*."
   ]
  },
  {
   "cell_type": "code",
   "execution_count": 3,
   "id": "7c7c5016",
   "metadata": {},
   "outputs": [
    {
     "name": "stdout",
     "output_type": "stream",
     "text": [
      "3\n",
      "3\n",
      "3.0\n"
     ]
    }
   ],
   "source": [
    "x = str(3)    # x will be '3'\n",
    "y = int(3)    # y will be 3\n",
    "z = float(3)  # z will be 3.0\n",
    "print(x)\n",
    "print(y)\n",
    "print(z)"
   ]
  },
  {
   "cell_type": "markdown",
   "id": "7e4f9859",
   "metadata": {},
   "source": [
    "## Obtener el tipo de dato"
   ]
  },
  {
   "cell_type": "markdown",
   "id": "ebe9ce0c",
   "metadata": {},
   "source": [
    "- Se puede obtener el tipo de dato de una variable con la función `type()`."
   ]
  },
  {
   "cell_type": "code",
   "execution_count": 9,
   "id": "04de1cdb",
   "metadata": {},
   "outputs": [
    {
     "name": "stdout",
     "output_type": "stream",
     "text": [
      "<class 'int'>\n",
      "<class 'str'>\n"
     ]
    }
   ],
   "source": [
    "x = 5\n",
    "y = \"John\"\n",
    "print(type(x))\n",
    "print(type(y))"
   ]
  },
  {
   "cell_type": "markdown",
   "id": "e25ef1db",
   "metadata": {},
   "source": [
    "- String variables can be declared either by using single or double quotes:"
   ]
  },
  {
   "cell_type": "code",
   "execution_count": 10,
   "id": "cd7fe8ab",
   "metadata": {},
   "outputs": [],
   "source": [
    "x = \"John\"\n",
    "# is the same as\n",
    "x = 'John'"
   ]
  },
  {
   "cell_type": "markdown",
   "id": "e9a4aedc",
   "metadata": {},
   "source": [
    "## Case-Sensitive"
   ]
  },
  {
   "cell_type": "markdown",
   "id": "707a29af",
   "metadata": {},
   "source": [
    "- Las variables son *case-sensitive*."
   ]
  },
  {
   "cell_type": "code",
   "execution_count": 12,
   "id": "5d7207dd",
   "metadata": {},
   "outputs": [
    {
     "name": "stdout",
     "output_type": "stream",
     "text": [
      "4\n"
     ]
    }
   ],
   "source": [
    "a = 4\n",
    "A = \"Sally\"\n",
    "#A will not overwrite a\n",
    "print(a)\n"
   ]
  },
  {
   "cell_type": "code",
   "execution_count": 13,
   "id": "33adef9b",
   "metadata": {},
   "outputs": [
    {
     "name": "stdout",
     "output_type": "stream",
     "text": [
      "Sally\n"
     ]
    }
   ],
   "source": [
    "print(A)"
   ]
  },
  {
   "cell_type": "markdown",
   "id": "35285bf3",
   "metadata": {},
   "source": [
    "[Python: Nombre de Variables](https://www.w3schools.com/python/python_variables_names.asp)"
   ]
  },
  {
   "cell_type": "markdown",
   "id": "cac70431",
   "metadata": {},
   "source": [
    "=========================\n",
    "========================="
   ]
  },
  {
   "cell_type": "markdown",
   "id": "b402b689",
   "metadata": {},
   "source": [
    "# Asignar múltiples valores"
   ]
  },
  {
   "cell_type": "markdown",
   "id": "a1bfc7a2",
   "metadata": {},
   "source": [
    "## Varios valores a múltiples variables\n",
    "- Python permite asignar valores a múltiples variables en una línea:\n",
    "\n"
   ]
  },
  {
   "cell_type": "code",
   "execution_count": 14,
   "id": "b584e0ac",
   "metadata": {},
   "outputs": [
    {
     "name": "stdout",
     "output_type": "stream",
     "text": [
      "Orange\n",
      "Banana\n",
      "Cherry\n"
     ]
    }
   ],
   "source": [
    "x, y, z = \"Orange\", \"Banana\", \"Cherry\"\n",
    "print(x)\n",
    "print(y)\n",
    "print(z)"
   ]
  },
  {
   "cell_type": "markdown",
   "id": "5f3ba457",
   "metadata": {},
   "source": [
    "## Un valor a múltiples variables\n",
    "\n",
    "- También es posible asignar el mismo valor a múltiples variables en una línea:"
   ]
  },
  {
   "cell_type": "code",
   "execution_count": 15,
   "id": "c518daff",
   "metadata": {},
   "outputs": [
    {
     "name": "stdout",
     "output_type": "stream",
     "text": [
      "Orange\n",
      "Orange\n",
      "Orange\n"
     ]
    }
   ],
   "source": [
    "x = y = z = \"Orange\"\n",
    "print(x)\n",
    "print(y)\n",
    "print(z)"
   ]
  },
  {
   "cell_type": "code",
   "execution_count": 16,
   "id": "c0120cd2",
   "metadata": {},
   "outputs": [
    {
     "ename": "SyntaxError",
     "evalue": "cannot assign to literal (975975367.py, line 1)",
     "output_type": "error",
     "traceback": [
      "\u001b[0;36m  Cell \u001b[0;32mIn[16], line 1\u001b[0;36m\u001b[0m\n\u001b[0;31m    x = y = z = \"Orange\" =a\u001b[0m\n\u001b[0m                ^\u001b[0m\n\u001b[0;31mSyntaxError\u001b[0m\u001b[0;31m:\u001b[0m cannot assign to literal\n"
     ]
    }
   ],
   "source": [
    "x = y = z = \"Orange\" =a"
   ]
  },
  {
   "cell_type": "markdown",
   "id": "2ca5d2ff",
   "metadata": {},
   "source": [
    "## Desempaquetar una colección de datos\n",
    "- Si se tiene una colección o arreglo de valores en una lista, tuple, etc, Python permite extraer los valores en variables:"
   ]
  },
  {
   "cell_type": "code",
   "execution_count": 17,
   "id": "071e7014",
   "metadata": {},
   "outputs": [
    {
     "name": "stdout",
     "output_type": "stream",
     "text": [
      "['apple', 'banana', 'cherry']\n"
     ]
    }
   ],
   "source": [
    "fruits = [\"apple\", \"banana\", \"cherry\"]\n",
    "print(fruits)"
   ]
  },
  {
   "cell_type": "code",
   "execution_count": 18,
   "id": "9353caa6",
   "metadata": {},
   "outputs": [
    {
     "name": "stdout",
     "output_type": "stream",
     "text": [
      "apple\n",
      "banana\n",
      "cherry\n"
     ]
    }
   ],
   "source": [
    "x, y, z = fruits\n",
    "print(x)\n",
    "print(y)\n",
    "print(z)"
   ]
  },
  {
   "cell_type": "code",
   "execution_count": 19,
   "id": "17b98e3b",
   "metadata": {},
   "outputs": [
    {
     "ename": "ValueError",
     "evalue": "not enough values to unpack (expected 4, got 3)",
     "output_type": "error",
     "traceback": [
      "\u001b[0;31m---------------------------------------------------------------------------\u001b[0m",
      "\u001b[0;31mValueError\u001b[0m                                Traceback (most recent call last)",
      "Cell \u001b[0;32mIn[19], line 1\u001b[0m\n\u001b[0;32m----> 1\u001b[0m x, y, z, w \u001b[38;5;241m=\u001b[39m fruits\n",
      "\u001b[0;31mValueError\u001b[0m: not enough values to unpack (expected 4, got 3)"
     ]
    }
   ],
   "source": [
    "x, y, z, w = fruits\n"
   ]
  },
  {
   "cell_type": "markdown",
   "id": "fc99ae38",
   "metadata": {},
   "source": [
    "- Más acerca de [desempaquetar `tuples`](https://www.w3schools.com/python/python_tuples_unpack.asp)"
   ]
  },
  {
   "cell_type": "markdown",
   "id": "0eb2aad5",
   "metadata": {},
   "source": [
    "## Variables Globales\n",
    "\n",
    "- Las variables que son creadas fuera de una función son conocidas como **variables globales** \n",
    "\n",
    "- Las variables globales pueden ser usadas por cualquiera, tanto dentro como fuera de funciones"
   ]
  },
  {
   "cell_type": "code",
   "execution_count": 20,
   "id": "b160f00f",
   "metadata": {},
   "outputs": [
    {
     "name": "stdout",
     "output_type": "stream",
     "text": [
      "Python is awesome\n"
     ]
    }
   ],
   "source": [
    "x = \"awesome\"\n",
    "\n",
    "def myfunc():\n",
    "  print(\"Python is \" + x)\n",
    "\n",
    "myfunc()"
   ]
  },
  {
   "cell_type": "markdown",
   "id": "54234b0a",
   "metadata": {},
   "source": [
    "- Si se ha creado una variable dentro de una función, ésta será local y sólo podrá ser usada adentro de la función. La variable global con el mismo nombre se mantendrá global y con su valor original\n",
    "\n",
    "If you create a variable with the same name inside a function, this variable will be local, and can only be used inside the function. The global variable with the same name will remain as it was, global and with the original value."
   ]
  },
  {
   "cell_type": "code",
   "execution_count": null,
   "id": "1eed704f",
   "metadata": {},
   "outputs": [],
   "source": [
    "x = \"awesome\"\n",
    "\n",
    "def myfunc():\n",
    "    x = \"fantastic\"\n",
    "    print(\"Python is \" + x)\n",
    "\n",
    "myfunc()\n",
    "\n",
    "print(\"Python is \" + x)"
   ]
  },
  {
   "cell_type": "markdown",
   "id": "597dd4cf",
   "metadata": {},
   "source": [
    "### The global Keyword\n",
    "\n",
    "- Normalmente, cuando se crea una variable adentro de una función, esta variable es local y sólo puede ser usada adentro de la función.\n",
    "\n",
    "- Sin embargo, para crear una variable global desde dentro de una función, se puede utilizar la *palabra clave* **global**"
   ]
  },
  {
   "cell_type": "code",
   "execution_count": 59,
   "id": "b4bfedd1",
   "metadata": {},
   "outputs": [],
   "source": [
    "def fun1(var1):\n",
    "    asd = 1+2+var1\n",
    "    print(asd)\n",
    "    return asd+1\n",
    "    #print(asd)"
   ]
  },
  {
   "cell_type": "code",
   "execution_count": 61,
   "id": "6c98e98c",
   "metadata": {},
   "outputs": [
    {
     "name": "stdout",
     "output_type": "stream",
     "text": [
      "7\n"
     ]
    }
   ],
   "source": [
    "resultado1 = fun1(var1=4)"
   ]
  },
  {
   "cell_type": "code",
   "execution_count": 62,
   "id": "24050762",
   "metadata": {},
   "outputs": [
    {
     "data": {
      "text/plain": [
       "8"
      ]
     },
     "execution_count": 62,
     "metadata": {},
     "output_type": "execute_result"
    }
   ],
   "source": [
    "resultado1"
   ]
  },
  {
   "cell_type": "code",
   "execution_count": 68,
   "id": "11e349b8",
   "metadata": {},
   "outputs": [],
   "source": [
    "def fun1(var2,var1):\n",
    "    asd = 1+2+var1\n",
    "    print(asd)\n",
    "    return asd+var2\n",
    "    #print(asd)"
   ]
  },
  {
   "cell_type": "code",
   "execution_count": 70,
   "id": "f3ab8047",
   "metadata": {},
   "outputs": [
    {
     "name": "stdout",
     "output_type": "stream",
     "text": [
      "7\n"
     ]
    }
   ],
   "source": [
    "resultado1 = fun1(var1=4,var2=5)"
   ]
  },
  {
   "cell_type": "code",
   "execution_count": 66,
   "id": "038389e1",
   "metadata": {},
   "outputs": [
    {
     "data": {
      "text/plain": [
       "12"
      ]
     },
     "execution_count": 66,
     "metadata": {},
     "output_type": "execute_result"
    }
   ],
   "source": [
    "resultado1"
   ]
  },
  {
   "cell_type": "code",
   "execution_count": 69,
   "id": "f79da7e2",
   "metadata": {},
   "outputs": [
    {
     "name": "stdout",
     "output_type": "stream",
     "text": [
      "8\n"
     ]
    }
   ],
   "source": [
    "resultado1 = fun1(4,5)"
   ]
  },
  {
   "cell_type": "code",
   "execution_count": null,
   "id": "3de5c5c6",
   "metadata": {},
   "outputs": [],
   "source": [
    "def myfunc():\n",
    "    global x\n",
    "    x = \"UUUUUUFAAAAA\"\n",
    "\n",
    "myfunc()\n",
    "\n",
    "print(\"Python is \" + x)"
   ]
  },
  {
   "cell_type": "markdown",
   "id": "02f9d4b3",
   "metadata": {},
   "source": [
    "- También se utiliza la palabra clave **global** para cambiar el valor de una variable global desde dentro de una función"
   ]
  },
  {
   "cell_type": "code",
   "execution_count": null,
   "id": "8f41604c",
   "metadata": {},
   "outputs": [],
   "source": [
    "x = \"awesome\"\n",
    "\n",
    "def myfunc():\n",
    "    global x\n",
    "    x = \"fantastic\"\n",
    "\n",
    "myfunc()\n",
    "\n",
    "print(\"Python is \" + x)"
   ]
  },
  {
   "cell_type": "code",
   "execution_count": null,
   "id": "de19ec99",
   "metadata": {},
   "outputs": [],
   "source": []
  }
 ],
 "metadata": {
  "kernelspec": {
   "display_name": "Python 3 (ipykernel)",
   "language": "python",
   "name": "python3"
  },
  "language_info": {
   "codemirror_mode": {
    "name": "ipython",
    "version": 3
   },
   "file_extension": ".py",
   "mimetype": "text/x-python",
   "name": "python",
   "nbconvert_exporter": "python",
   "pygments_lexer": "ipython3",
   "version": "3.8.0"
  }
 },
 "nbformat": 4,
 "nbformat_minor": 5
}
