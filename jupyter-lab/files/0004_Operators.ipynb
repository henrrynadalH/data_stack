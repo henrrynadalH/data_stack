{
 "cells": [
  {
   "cell_type": "markdown",
   "id": "bc371595",
   "metadata": {},
   "source": [
    "- Los operadores son usados entre variables y valores:"
   ]
  },
  {
   "cell_type": "code",
   "execution_count": 1,
   "id": "6d0a0bdb",
   "metadata": {},
   "outputs": [
    {
     "name": "stdout",
     "output_type": "stream",
     "text": [
      "15\n"
     ]
    }
   ],
   "source": [
    "print(10 + 5)"
   ]
  },
  {
   "cell_type": "markdown",
   "id": "b1320fe4",
   "metadata": {},
   "source": [
    "## Operadores aritméticos de Python\n",
    "- Operadores aritméticos son usados con valores numéricos para ejecutar operaciones matemáticas comunes:"
   ]
  },
  {
   "cell_type": "markdown",
   "id": "ec8693da",
   "metadata": {},
   "source": [
    "|Operator|\tName|\tExample|\n",
    "|--------|------|----------|\n",
    "|+|\tAddition|\tx + y|\t\n",
    "|-|\tSubtraction|\tx - y|\t\n",
    "|*|\tMultiplication|\tx * y|\t\n",
    "|/|\tDivision|\tx / y|\t\n",
    "|%|\tModulus|\tx % y|\n",
    "|**|\tExponentiation|\tx ** y|\t\n",
    "|//|\tFloor division|\tx // y\t|\n"
   ]
  },
  {
   "cell_type": "markdown",
   "id": "d8bafa54",
   "metadata": {},
   "source": [
    "## Operadores de asignación de Python\n",
    "- Los operadores de asignación son usados para guardar valores en variables:"
   ]
  },
  {
   "cell_type": "markdown",
   "id": "12af06e5",
   "metadata": {},
   "source": [
    "| Operator | Example |\tSame As\t|\n",
    "|----------|---------|----------|\n",
    "|=|\tx = 5|\tx = 5\t|\n",
    "|+=|\tx += 3|\tx = x + 3|\n",
    "|-=|\tx -= 3|\tx = x - 3|\t\n",
    "|*=|\tx *= 3|\tx = x * 3|\t\n",
    "|/=|\tx /= 3|\tx = x / 3|\t\n",
    "|%=|\tx %= 3|\tx = x % 3|\t\n",
    "|//=|\tx //= 3|\tx = x // 3|\t\n",
    "|**=|\tx **= 3|\tx = x ** 3|\t\n",
    "|&=\t|x &= 3|\tx = x & 3|\t\n",
    "||=|\tx |= 3|\tx = x | 3|\t\n",
    "|^=|\tx ^= 3|\tx = x ^ 3|\t\n",
    "|>>=|\tx >>= 3|\tx = x >> 3|\t\n",
    "|<<=|\tx <<= 3|\tx = x << 3|\t\n",
    "|:=|\tprint(x := 3)|\tx = 3; print(x)|\n"
   ]
  },
  {
   "cell_type": "markdown",
   "id": "e43eec50",
   "metadata": {},
   "source": [
    "## Operadores de comparación\n",
    "\n",
    "|Operator|\tName|\tExample|\n",
    "|--------|------|----------|\n",
    "|==|\tEqual|\tx == y|\n",
    "|!=|\tNot equal|\tx != y|\t\n",
    "|>|\tGreater than|\tx > y|\n",
    "|<|\tLess than|\tx < y|\t\n",
    "|>=|\tGreater than or equal to|\tx >= y|\t\n",
    "|<=|\tLess than or equal to|\tx <= y|"
   ]
  },
  {
   "cell_type": "markdown",
   "id": "7879640e",
   "metadata": {},
   "source": [
    "## Operadores Lógicos\n",
    "- Son usados para combinar expreciones condicionales:\n",
    "\n",
    "|Operator\t|Description\t|Example|\n",
    "|-----------|---------------|-------|\n",
    "|and| \tReturns True if both statements are true|\tx < 5 and  x < 10|\t\n",
    "|or|\tReturns True if one of the statements is true|\tx < 5 or x < 4|\t\n",
    "|not|\tReverse the result, returns False if the result is true|\tnot(x < 5 and x < 10)|"
   ]
  },
  {
   "cell_type": "markdown",
   "id": "cf36b10f",
   "metadata": {},
   "source": [
    "## Operadores de Identidad\n",
    "- Son utilizados para comparar los objetos, no para verificar si son iguales, sino, de hecho, para verificar si son el mismo objeto, con la misma ubicación en Memoria\n",
    "\n",
    "| Operator|\tDescription\t|Example|\n",
    "|---------|-------------|-------|\n",
    "|is| \tReturns True if both variables are the same object|\tx is y\t|\n",
    "|is not\t|Returns True if both variables are not the same object|\tx is not y|"
   ]
  },
  {
   "cell_type": "markdown",
   "id": "0a9fe666",
   "metadata": {},
   "source": [
    "## Operadores de Pertenencia\n",
    "- Son los utilizados para probar si una secuencia se encuentra al interior de otro objeto:\n",
    "\n",
    "|Operator|\tDescription\t|Example|\n",
    "|--------|--------------|-------|\n",
    "|in| \tReturns True if a sequence with the specified value is present in the object|\tx in y|\n",
    "|not in|\tReturns True if a sequence with the specified value is not present in the object|\tx not in y|"
   ]
  },
  {
   "cell_type": "markdown",
   "id": "edf2e34c",
   "metadata": {},
   "source": [
    "## Operadores Bit a bit  (*Bitwise*)\n",
    "- Son utilizados para comparar dos números *binariamente*\n",
    "\n",
    "|Operator|\tName|\tDescription|\tExample|\n",
    "|--------|------|--------------|-----------|\n",
    "|&| \tAND|\tSets each bit to 1 if both bits are 1|\tx & y|\t\n",
    "| \\| |\tOR |\tSets each bit to 1 if one of two bits is 1|\tx | y|\t\n",
    "|^|\tXOR|\tSets each bit to 1 if only one of two bits is 1\t|x ^ y|\t\n",
    "|~|\tNOT|\tInverts all the bits|\t~x\t|\n",
    "|<<|\tZero fill left shift|\tShift left by pushing zeros in from the right and let the leftmost bits fall off|\tx << 2\t|\n",
    "|>>|\tSigned right shift\t|Shift right by pushing copies of the leftmost bit in from the left, and let the rightmost bits fall off|\tx >> 2|"
   ]
  },
  {
   "cell_type": "code",
   "execution_count": null,
   "id": "1c134ad4",
   "metadata": {},
   "outputs": [],
   "source": []
  }
 ],
 "metadata": {
  "kernelspec": {
   "display_name": "Python 3 (ipykernel)",
   "language": "python",
   "name": "python3"
  },
  "language_info": {
   "codemirror_mode": {
    "name": "ipython",
    "version": 3
   },
   "file_extension": ".py",
   "mimetype": "text/x-python",
   "name": "python",
   "nbconvert_exporter": "python",
   "pygments_lexer": "ipython3",
   "version": "3.8.0"
  }
 },
 "nbformat": 4,
 "nbformat_minor": 5
}
